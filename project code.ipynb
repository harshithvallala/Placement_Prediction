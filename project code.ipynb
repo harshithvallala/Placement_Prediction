{
  "nbformat": 4,
  "nbformat_minor": 0,
  "metadata": {
    "colab": {
      "provenance": []
    },
    "kernelspec": {
      "name": "python3",
      "display_name": "Python 3"
    },
    "language_info": {
      "name": "python"
    }
  },
  "cells": [
    {
      "cell_type": "code",
      "execution_count": 1,
      "metadata": {
        "id": "6eYLiYS2sKPw"
      },
      "outputs": [],
      "source": [
        "import pandas as pd"
      ]
    },
    {
      "cell_type": "code",
      "source": [
        "import pandas as pd\n",
        "import numpy as np\n",
        "from sklearn.model_selection import train_test_split\n",
        "from sklearn.linear_model import LogisticRegression\n",
        "from sklearn.neighbors import KNeighborsClassifier\n",
        "from sklearn.svm import SVC\n",
        "from sklearn.tree import DecisionTreeClassifier\n",
        "from sklearn.naive_bayes import GaussianNB\n",
        "from sklearn.metrics import accuracy_score, precision_score, recall_score, confusion_matrix\n",
        "import matplotlib.pyplot as plt"
      ],
      "metadata": {
        "id": "BwziiquPsSP1"
      },
      "execution_count": 2,
      "outputs": []
    },
    {
      "cell_type": "code",
      "source": [
        "data = pd.read_csv('/content/Job_Placement_Data.csv')\n",
        "print(data)"
      ],
      "metadata": {
        "colab": {
          "base_uri": "https://localhost:8080/"
        },
        "id": "iOoEEKyFsV1_",
        "outputId": "1e841b77-2669-404c-b616-13a46e352c5b"
      },
      "execution_count": 3,
      "outputs": [
        {
          "output_type": "stream",
          "name": "stdout",
          "text": [
            "    gender  ssc_percentage ssc_board  hsc_percentage hsc_board hsc_subject  \\\n",
            "0        M           67.00    Others           91.00    Others    Commerce   \n",
            "1        M           79.33   Central           78.33    Others     Science   \n",
            "2        M           65.00   Central           68.00   Central        Arts   \n",
            "3        M           56.00   Central           52.00   Central     Science   \n",
            "4        M           85.80   Central           73.60   Central    Commerce   \n",
            "..     ...             ...       ...             ...       ...         ...   \n",
            "210      M           80.60    Others           82.00    Others    Commerce   \n",
            "211      M           58.00    Others           60.00    Others     Science   \n",
            "212      M           67.00    Others           67.00    Others    Commerce   \n",
            "213      F           74.00    Others           66.00    Others    Commerce   \n",
            "214      M           62.00   Central           58.00    Others     Science   \n",
            "\n",
            "     degree_percentage undergrad_degree work_experience  emp_test_percentage  \\\n",
            "0                58.00         Sci&Tech              No                 55.0   \n",
            "1                77.48         Sci&Tech             Yes                 86.5   \n",
            "2                64.00        Comm&Mgmt              No                 75.0   \n",
            "3                52.00         Sci&Tech              No                 66.0   \n",
            "4                73.30        Comm&Mgmt              No                 96.8   \n",
            "..                 ...              ...             ...                  ...   \n",
            "210              77.60        Comm&Mgmt              No                 91.0   \n",
            "211              72.00         Sci&Tech              No                 74.0   \n",
            "212              73.00        Comm&Mgmt             Yes                 59.0   \n",
            "213              58.00        Comm&Mgmt              No                 70.0   \n",
            "214              53.00        Comm&Mgmt              No                 89.0   \n",
            "\n",
            "    specialisation  mba_percent      status  \n",
            "0           Mkt&HR        58.80      Placed  \n",
            "1          Mkt&Fin        66.28      Placed  \n",
            "2          Mkt&Fin        57.80      Placed  \n",
            "3           Mkt&HR        59.43  Not Placed  \n",
            "4          Mkt&Fin        55.50      Placed  \n",
            "..             ...          ...         ...  \n",
            "210        Mkt&Fin        74.49      Placed  \n",
            "211        Mkt&Fin        53.62      Placed  \n",
            "212        Mkt&Fin        69.72      Placed  \n",
            "213         Mkt&HR        60.23      Placed  \n",
            "214         Mkt&HR        60.22  Not Placed  \n",
            "\n",
            "[215 rows x 13 columns]\n"
          ]
        }
      ]
    },
    {
      "cell_type": "code",
      "source": [
        "data.info()"
      ],
      "metadata": {
        "colab": {
          "base_uri": "https://localhost:8080/"
        },
        "id": "Ufoe_bkisfp1",
        "outputId": "3e4f0d63-1bb1-44c4-b02c-da9558c1a64c"
      },
      "execution_count": 4,
      "outputs": [
        {
          "output_type": "stream",
          "name": "stdout",
          "text": [
            "<class 'pandas.core.frame.DataFrame'>\n",
            "RangeIndex: 215 entries, 0 to 214\n",
            "Data columns (total 13 columns):\n",
            " #   Column               Non-Null Count  Dtype  \n",
            "---  ------               --------------  -----  \n",
            " 0   gender               215 non-null    object \n",
            " 1   ssc_percentage       215 non-null    float64\n",
            " 2   ssc_board            215 non-null    object \n",
            " 3   hsc_percentage       215 non-null    float64\n",
            " 4   hsc_board            215 non-null    object \n",
            " 5   hsc_subject          215 non-null    object \n",
            " 6   degree_percentage    215 non-null    float64\n",
            " 7   undergrad_degree     215 non-null    object \n",
            " 8   work_experience      215 non-null    object \n",
            " 9   emp_test_percentage  215 non-null    float64\n",
            " 10  specialisation       215 non-null    object \n",
            " 11  mba_percent          215 non-null    float64\n",
            " 12  status               215 non-null    object \n",
            "dtypes: float64(5), object(8)\n",
            "memory usage: 22.0+ KB\n"
          ]
        }
      ]
    },
    {
      "cell_type": "code",
      "source": [
        "data.describe()"
      ],
      "metadata": {
        "colab": {
          "base_uri": "https://localhost:8080/",
          "height": 300
        },
        "id": "t2DI22BIsizO",
        "outputId": "4cacb11e-ea0f-47e0-ef66-a3a2f8a224e9"
      },
      "execution_count": 5,
      "outputs": [
        {
          "output_type": "execute_result",
          "data": {
            "text/plain": [
              "       ssc_percentage  hsc_percentage  degree_percentage  emp_test_percentage  \\\n",
              "count      215.000000      215.000000         215.000000           215.000000   \n",
              "mean        67.303395       66.333163          66.370186            72.100558   \n",
              "std         10.827205       10.897509           7.358743            13.275956   \n",
              "min         40.890000       37.000000          50.000000            50.000000   \n",
              "25%         60.600000       60.900000          61.000000            60.000000   \n",
              "50%         67.000000       65.000000          66.000000            71.000000   \n",
              "75%         75.700000       73.000000          72.000000            83.500000   \n",
              "max         89.400000       97.700000          91.000000            98.000000   \n",
              "\n",
              "       mba_percent  \n",
              "count   215.000000  \n",
              "mean     62.278186  \n",
              "std       5.833385  \n",
              "min      51.210000  \n",
              "25%      57.945000  \n",
              "50%      62.000000  \n",
              "75%      66.255000  \n",
              "max      77.890000  "
            ],
            "text/html": [
              "\n",
              "  <div id=\"df-87a96ef6-41bf-40c0-a6cf-e44241f2b7f9\" class=\"colab-df-container\">\n",
              "    <div>\n",
              "<style scoped>\n",
              "    .dataframe tbody tr th:only-of-type {\n",
              "        vertical-align: middle;\n",
              "    }\n",
              "\n",
              "    .dataframe tbody tr th {\n",
              "        vertical-align: top;\n",
              "    }\n",
              "\n",
              "    .dataframe thead th {\n",
              "        text-align: right;\n",
              "    }\n",
              "</style>\n",
              "<table border=\"1\" class=\"dataframe\">\n",
              "  <thead>\n",
              "    <tr style=\"text-align: right;\">\n",
              "      <th></th>\n",
              "      <th>ssc_percentage</th>\n",
              "      <th>hsc_percentage</th>\n",
              "      <th>degree_percentage</th>\n",
              "      <th>emp_test_percentage</th>\n",
              "      <th>mba_percent</th>\n",
              "    </tr>\n",
              "  </thead>\n",
              "  <tbody>\n",
              "    <tr>\n",
              "      <th>count</th>\n",
              "      <td>215.000000</td>\n",
              "      <td>215.000000</td>\n",
              "      <td>215.000000</td>\n",
              "      <td>215.000000</td>\n",
              "      <td>215.000000</td>\n",
              "    </tr>\n",
              "    <tr>\n",
              "      <th>mean</th>\n",
              "      <td>67.303395</td>\n",
              "      <td>66.333163</td>\n",
              "      <td>66.370186</td>\n",
              "      <td>72.100558</td>\n",
              "      <td>62.278186</td>\n",
              "    </tr>\n",
              "    <tr>\n",
              "      <th>std</th>\n",
              "      <td>10.827205</td>\n",
              "      <td>10.897509</td>\n",
              "      <td>7.358743</td>\n",
              "      <td>13.275956</td>\n",
              "      <td>5.833385</td>\n",
              "    </tr>\n",
              "    <tr>\n",
              "      <th>min</th>\n",
              "      <td>40.890000</td>\n",
              "      <td>37.000000</td>\n",
              "      <td>50.000000</td>\n",
              "      <td>50.000000</td>\n",
              "      <td>51.210000</td>\n",
              "    </tr>\n",
              "    <tr>\n",
              "      <th>25%</th>\n",
              "      <td>60.600000</td>\n",
              "      <td>60.900000</td>\n",
              "      <td>61.000000</td>\n",
              "      <td>60.000000</td>\n",
              "      <td>57.945000</td>\n",
              "    </tr>\n",
              "    <tr>\n",
              "      <th>50%</th>\n",
              "      <td>67.000000</td>\n",
              "      <td>65.000000</td>\n",
              "      <td>66.000000</td>\n",
              "      <td>71.000000</td>\n",
              "      <td>62.000000</td>\n",
              "    </tr>\n",
              "    <tr>\n",
              "      <th>75%</th>\n",
              "      <td>75.700000</td>\n",
              "      <td>73.000000</td>\n",
              "      <td>72.000000</td>\n",
              "      <td>83.500000</td>\n",
              "      <td>66.255000</td>\n",
              "    </tr>\n",
              "    <tr>\n",
              "      <th>max</th>\n",
              "      <td>89.400000</td>\n",
              "      <td>97.700000</td>\n",
              "      <td>91.000000</td>\n",
              "      <td>98.000000</td>\n",
              "      <td>77.890000</td>\n",
              "    </tr>\n",
              "  </tbody>\n",
              "</table>\n",
              "</div>\n",
              "    <div class=\"colab-df-buttons\">\n",
              "\n",
              "  <div class=\"colab-df-container\">\n",
              "    <button class=\"colab-df-convert\" onclick=\"convertToInteractive('df-87a96ef6-41bf-40c0-a6cf-e44241f2b7f9')\"\n",
              "            title=\"Convert this dataframe to an interactive table.\"\n",
              "            style=\"display:none;\">\n",
              "\n",
              "  <svg xmlns=\"http://www.w3.org/2000/svg\" height=\"24px\" viewBox=\"0 -960 960 960\">\n",
              "    <path d=\"M120-120v-720h720v720H120Zm60-500h600v-160H180v160Zm220 220h160v-160H400v160Zm0 220h160v-160H400v160ZM180-400h160v-160H180v160Zm440 0h160v-160H620v160ZM180-180h160v-160H180v160Zm440 0h160v-160H620v160Z\"/>\n",
              "  </svg>\n",
              "    </button>\n",
              "\n",
              "  <style>\n",
              "    .colab-df-container {\n",
              "      display:flex;\n",
              "      gap: 12px;\n",
              "    }\n",
              "\n",
              "    .colab-df-convert {\n",
              "      background-color: #E8F0FE;\n",
              "      border: none;\n",
              "      border-radius: 50%;\n",
              "      cursor: pointer;\n",
              "      display: none;\n",
              "      fill: #1967D2;\n",
              "      height: 32px;\n",
              "      padding: 0 0 0 0;\n",
              "      width: 32px;\n",
              "    }\n",
              "\n",
              "    .colab-df-convert:hover {\n",
              "      background-color: #E2EBFA;\n",
              "      box-shadow: 0px 1px 2px rgba(60, 64, 67, 0.3), 0px 1px 3px 1px rgba(60, 64, 67, 0.15);\n",
              "      fill: #174EA6;\n",
              "    }\n",
              "\n",
              "    .colab-df-buttons div {\n",
              "      margin-bottom: 4px;\n",
              "    }\n",
              "\n",
              "    [theme=dark] .colab-df-convert {\n",
              "      background-color: #3B4455;\n",
              "      fill: #D2E3FC;\n",
              "    }\n",
              "\n",
              "    [theme=dark] .colab-df-convert:hover {\n",
              "      background-color: #434B5C;\n",
              "      box-shadow: 0px 1px 3px 1px rgba(0, 0, 0, 0.15);\n",
              "      filter: drop-shadow(0px 1px 2px rgba(0, 0, 0, 0.3));\n",
              "      fill: #FFFFFF;\n",
              "    }\n",
              "  </style>\n",
              "\n",
              "    <script>\n",
              "      const buttonEl =\n",
              "        document.querySelector('#df-87a96ef6-41bf-40c0-a6cf-e44241f2b7f9 button.colab-df-convert');\n",
              "      buttonEl.style.display =\n",
              "        google.colab.kernel.accessAllowed ? 'block' : 'none';\n",
              "\n",
              "      async function convertToInteractive(key) {\n",
              "        const element = document.querySelector('#df-87a96ef6-41bf-40c0-a6cf-e44241f2b7f9');\n",
              "        const dataTable =\n",
              "          await google.colab.kernel.invokeFunction('convertToInteractive',\n",
              "                                                    [key], {});\n",
              "        if (!dataTable) return;\n",
              "\n",
              "        const docLinkHtml = 'Like what you see? Visit the ' +\n",
              "          '<a target=\"_blank\" href=https://colab.research.google.com/notebooks/data_table.ipynb>data table notebook</a>'\n",
              "          + ' to learn more about interactive tables.';\n",
              "        element.innerHTML = '';\n",
              "        dataTable['output_type'] = 'display_data';\n",
              "        await google.colab.output.renderOutput(dataTable, element);\n",
              "        const docLink = document.createElement('div');\n",
              "        docLink.innerHTML = docLinkHtml;\n",
              "        element.appendChild(docLink);\n",
              "      }\n",
              "    </script>\n",
              "  </div>\n",
              "\n",
              "\n",
              "<div id=\"df-0e64cec0-8c9c-43ab-aba1-fde5a8701741\">\n",
              "  <button class=\"colab-df-quickchart\" onclick=\"quickchart('df-0e64cec0-8c9c-43ab-aba1-fde5a8701741')\"\n",
              "            title=\"Suggest charts\"\n",
              "            style=\"display:none;\">\n",
              "\n",
              "<svg xmlns=\"http://www.w3.org/2000/svg\" height=\"24px\"viewBox=\"0 0 24 24\"\n",
              "     width=\"24px\">\n",
              "    <g>\n",
              "        <path d=\"M19 3H5c-1.1 0-2 .9-2 2v14c0 1.1.9 2 2 2h14c1.1 0 2-.9 2-2V5c0-1.1-.9-2-2-2zM9 17H7v-7h2v7zm4 0h-2V7h2v10zm4 0h-2v-4h2v4z\"/>\n",
              "    </g>\n",
              "</svg>\n",
              "  </button>\n",
              "\n",
              "<style>\n",
              "  .colab-df-quickchart {\n",
              "      --bg-color: #E8F0FE;\n",
              "      --fill-color: #1967D2;\n",
              "      --hover-bg-color: #E2EBFA;\n",
              "      --hover-fill-color: #174EA6;\n",
              "      --disabled-fill-color: #AAA;\n",
              "      --disabled-bg-color: #DDD;\n",
              "  }\n",
              "\n",
              "  [theme=dark] .colab-df-quickchart {\n",
              "      --bg-color: #3B4455;\n",
              "      --fill-color: #D2E3FC;\n",
              "      --hover-bg-color: #434B5C;\n",
              "      --hover-fill-color: #FFFFFF;\n",
              "      --disabled-bg-color: #3B4455;\n",
              "      --disabled-fill-color: #666;\n",
              "  }\n",
              "\n",
              "  .colab-df-quickchart {\n",
              "    background-color: var(--bg-color);\n",
              "    border: none;\n",
              "    border-radius: 50%;\n",
              "    cursor: pointer;\n",
              "    display: none;\n",
              "    fill: var(--fill-color);\n",
              "    height: 32px;\n",
              "    padding: 0;\n",
              "    width: 32px;\n",
              "  }\n",
              "\n",
              "  .colab-df-quickchart:hover {\n",
              "    background-color: var(--hover-bg-color);\n",
              "    box-shadow: 0 1px 2px rgba(60, 64, 67, 0.3), 0 1px 3px 1px rgba(60, 64, 67, 0.15);\n",
              "    fill: var(--button-hover-fill-color);\n",
              "  }\n",
              "\n",
              "  .colab-df-quickchart-complete:disabled,\n",
              "  .colab-df-quickchart-complete:disabled:hover {\n",
              "    background-color: var(--disabled-bg-color);\n",
              "    fill: var(--disabled-fill-color);\n",
              "    box-shadow: none;\n",
              "  }\n",
              "\n",
              "  .colab-df-spinner {\n",
              "    border: 2px solid var(--fill-color);\n",
              "    border-color: transparent;\n",
              "    border-bottom-color: var(--fill-color);\n",
              "    animation:\n",
              "      spin 1s steps(1) infinite;\n",
              "  }\n",
              "\n",
              "  @keyframes spin {\n",
              "    0% {\n",
              "      border-color: transparent;\n",
              "      border-bottom-color: var(--fill-color);\n",
              "      border-left-color: var(--fill-color);\n",
              "    }\n",
              "    20% {\n",
              "      border-color: transparent;\n",
              "      border-left-color: var(--fill-color);\n",
              "      border-top-color: var(--fill-color);\n",
              "    }\n",
              "    30% {\n",
              "      border-color: transparent;\n",
              "      border-left-color: var(--fill-color);\n",
              "      border-top-color: var(--fill-color);\n",
              "      border-right-color: var(--fill-color);\n",
              "    }\n",
              "    40% {\n",
              "      border-color: transparent;\n",
              "      border-right-color: var(--fill-color);\n",
              "      border-top-color: var(--fill-color);\n",
              "    }\n",
              "    60% {\n",
              "      border-color: transparent;\n",
              "      border-right-color: var(--fill-color);\n",
              "    }\n",
              "    80% {\n",
              "      border-color: transparent;\n",
              "      border-right-color: var(--fill-color);\n",
              "      border-bottom-color: var(--fill-color);\n",
              "    }\n",
              "    90% {\n",
              "      border-color: transparent;\n",
              "      border-bottom-color: var(--fill-color);\n",
              "    }\n",
              "  }\n",
              "</style>\n",
              "\n",
              "  <script>\n",
              "    async function quickchart(key) {\n",
              "      const quickchartButtonEl =\n",
              "        document.querySelector('#' + key + ' button');\n",
              "      quickchartButtonEl.disabled = true;  // To prevent multiple clicks.\n",
              "      quickchartButtonEl.classList.add('colab-df-spinner');\n",
              "      try {\n",
              "        const charts = await google.colab.kernel.invokeFunction(\n",
              "            'suggestCharts', [key], {});\n",
              "      } catch (error) {\n",
              "        console.error('Error during call to suggestCharts:', error);\n",
              "      }\n",
              "      quickchartButtonEl.classList.remove('colab-df-spinner');\n",
              "      quickchartButtonEl.classList.add('colab-df-quickchart-complete');\n",
              "    }\n",
              "    (() => {\n",
              "      let quickchartButtonEl =\n",
              "        document.querySelector('#df-0e64cec0-8c9c-43ab-aba1-fde5a8701741 button');\n",
              "      quickchartButtonEl.style.display =\n",
              "        google.colab.kernel.accessAllowed ? 'block' : 'none';\n",
              "    })();\n",
              "  </script>\n",
              "</div>\n",
              "\n",
              "    </div>\n",
              "  </div>\n"
            ],
            "application/vnd.google.colaboratory.intrinsic+json": {
              "type": "dataframe",
              "summary": "{\n  \"name\": \"data\",\n  \"rows\": 8,\n  \"fields\": [\n    {\n      \"column\": \"ssc_percentage\",\n      \"properties\": {\n        \"dtype\": \"number\",\n        \"std\": 60.15555855698689,\n        \"min\": 10.827205398231452,\n        \"max\": 215.0,\n        \"num_unique_values\": 8,\n        \"samples\": [\n          67.30339534883721,\n          67.0,\n          215.0\n        ],\n        \"semantic_type\": \"\",\n        \"description\": \"\"\n      }\n    },\n    {\n      \"column\": \"hsc_percentage\",\n      \"properties\": {\n        \"dtype\": \"number\",\n        \"std\": 60.90149006828629,\n        \"min\": 10.89750915750298,\n        \"max\": 215.0,\n        \"num_unique_values\": 8,\n        \"samples\": [\n          66.33316279069768,\n          65.0,\n          215.0\n        ],\n        \"semantic_type\": \"\",\n        \"description\": \"\"\n      }\n    },\n    {\n      \"column\": \"degree_percentage\",\n      \"properties\": {\n        \"dtype\": \"number\",\n        \"std\": 60.135138736439984,\n        \"min\": 7.35874328733944,\n        \"max\": 215.0,\n        \"num_unique_values\": 8,\n        \"samples\": [\n          66.37018604651163,\n          66.0,\n          215.0\n        ],\n        \"semantic_type\": \"\",\n        \"description\": \"\"\n      }\n    },\n    {\n      \"column\": \"emp_test_percentage\",\n      \"properties\": {\n        \"dtype\": \"number\",\n        \"std\": 59.02945065343802,\n        \"min\": 13.275956401653833,\n        \"max\": 215.0,\n        \"num_unique_values\": 8,\n        \"samples\": [\n          72.10055813953488,\n          71.0,\n          215.0\n        ],\n        \"semantic_type\": \"\",\n        \"description\": \"\"\n      }\n    },\n    {\n      \"column\": \"mba_percent\",\n      \"properties\": {\n        \"dtype\": \"number\",\n        \"std\": 60.540675936982005,\n        \"min\": 5.833384580683801,\n        \"max\": 215.0,\n        \"num_unique_values\": 8,\n        \"samples\": [\n          62.278186046511635,\n          62.0,\n          215.0\n        ],\n        \"semantic_type\": \"\",\n        \"description\": \"\"\n      }\n    }\n  ]\n}"
            }
          },
          "metadata": {},
          "execution_count": 5
        }
      ]
    },
    {
      "cell_type": "code",
      "source": [
        "print(data.isnull().sum())"
      ],
      "metadata": {
        "colab": {
          "base_uri": "https://localhost:8080/"
        },
        "id": "VlrsncfrsmGx",
        "outputId": "5ca2c7eb-399e-4a22-8174-e967c0b51dbf"
      },
      "execution_count": 6,
      "outputs": [
        {
          "output_type": "stream",
          "name": "stdout",
          "text": [
            "gender                 0\n",
            "ssc_percentage         0\n",
            "ssc_board              0\n",
            "hsc_percentage         0\n",
            "hsc_board              0\n",
            "hsc_subject            0\n",
            "degree_percentage      0\n",
            "undergrad_degree       0\n",
            "work_experience        0\n",
            "emp_test_percentage    0\n",
            "specialisation         0\n",
            "mba_percent            0\n",
            "status                 0\n",
            "dtype: int64\n"
          ]
        }
      ]
    },
    {
      "cell_type": "code",
      "source": [
        "X = data.drop(\"status\", axis=1)\n",
        "y = data[\"status\"]"
      ],
      "metadata": {
        "id": "x_CuoDcHspRf"
      },
      "execution_count": 7,
      "outputs": []
    },
    {
      "cell_type": "code",
      "source": [
        "X_train, X_test, y_train, y_test = train_test_split(X, y, test_size=0.2, random_state=42)"
      ],
      "metadata": {
        "id": "ANTY152KszlX"
      },
      "execution_count": 8,
      "outputs": []
    },
    {
      "cell_type": "code",
      "source": [
        "import pandas as pd\n",
        "from sklearn.model_selection import train_test_split\n",
        "from sklearn.preprocessing import OneHotEncoder\n",
        "from sklearn.compose import ColumnTransformer\n",
        "from sklearn.linear_model import LogisticRegression\n",
        "from sklearn.metrics import accuracy_score, classification_report\n",
        "\n",
        "# Load the dataset from CSV\n",
        "data = pd.read_csv('/content/Job_Placement_Data.csv')\n",
        "\n",
        "# Separate features and target variable\n",
        "X = data.drop(columns=['status'])  # Features\n",
        "y = data['status']  # Target variable\n",
        "\n",
        "# Identify categorical columns\n",
        "categorical_cols = [col for col in X.columns if X[col].dtype == 'object']\n",
        "\n",
        "# Apply one-hot encoding to categorical columns\n",
        "preprocessor = ColumnTransformer(\n",
        "    transformers=[('encoder', OneHotEncoder(), categorical_cols)],\n",
        "    remainder='passthrough'\n",
        ")\n",
        "X_encoded = preprocessor.fit_transform(X)\n",
        "\n",
        "# Split the data into training and testing sets\n",
        "X_train, X_test, y_train, y_test = train_test_split(X_encoded, y, test_size=0.2, random_state=42)\n",
        "\n",
        "# Initialize the logistic regression model\n",
        "model = LogisticRegression()\n",
        "\n",
        "# Train the model on the training data\n",
        "model.fit(X_train, y_train)\n",
        "\n",
        "# Predict the target variable on the testing data\n",
        "y_pred = model.predict(X_test)\n",
        "\n",
        "# Evaluate the model\n",
        "accuracy = accuracy_score(y_test, y_pred)\n",
        "print(\"Accuracy:\", accuracy)\n",
        "\n",
        "# Generate a classification report\n",
        "print(\"Classification Report:\")\n",
        "print(classification_report(y_test, y_pred))\n",
        "conf_matrix = confusion_matrix(y_test, y_pred)\n",
        "print(\"Confusion Matrix\")\n",
        "print(conf_matrix)"
      ],
      "metadata": {
        "colab": {
          "base_uri": "https://localhost:8080/"
        },
        "id": "jQlH301Ps2vD",
        "outputId": "85021103-df3c-4675-913e-7e3763d0dfff"
      },
      "execution_count": 10,
      "outputs": [
        {
          "output_type": "stream",
          "name": "stdout",
          "text": [
            "Accuracy: 0.8837209302325582\n",
            "Classification Report:\n",
            "              precision    recall  f1-score   support\n",
            "\n",
            "  Not Placed       0.82      0.75      0.78        12\n",
            "      Placed       0.91      0.94      0.92        31\n",
            "\n",
            "    accuracy                           0.88        43\n",
            "   macro avg       0.86      0.84      0.85        43\n",
            "weighted avg       0.88      0.88      0.88        43\n",
            "\n",
            "Confusion Matrix\n",
            "[[ 9  3]\n",
            " [ 2 29]]\n"
          ]
        },
        {
          "output_type": "stream",
          "name": "stderr",
          "text": [
            "/usr/local/lib/python3.10/dist-packages/sklearn/linear_model/_logistic.py:458: ConvergenceWarning: lbfgs failed to converge (status=1):\n",
            "STOP: TOTAL NO. of ITERATIONS REACHED LIMIT.\n",
            "\n",
            "Increase the number of iterations (max_iter) or scale the data as shown in:\n",
            "    https://scikit-learn.org/stable/modules/preprocessing.html\n",
            "Please also refer to the documentation for alternative solver options:\n",
            "    https://scikit-learn.org/stable/modules/linear_model.html#logistic-regression\n",
            "  n_iter_i = _check_optimize_result(\n"
          ]
        }
      ]
    },
    {
      "cell_type": "code",
      "source": [
        "import matplotlib.pyplot as plt\n",
        "import seaborn as sns"
      ],
      "metadata": {
        "id": "oSY0IU8HtI3B"
      },
      "execution_count": 11,
      "outputs": []
    },
    {
      "cell_type": "code",
      "source": [
        "conf_matrix = confusion_matrix(y_test, y_pred)\n",
        "plt.figure(figsize=(8, 6))\n",
        "sns.heatmap(conf_matrix, annot=True, fmt=\"d\", cmap=\"Blues\", cbar=False)\n",
        "plt.title(\"Confusion Matrix\")\n",
        "plt.xlabel(\"Predicted\")\n",
        "plt.ylabel(\"Actual\")\n",
        "plt.show()"
      ],
      "metadata": {
        "colab": {
          "base_uri": "https://localhost:8080/",
          "height": 564
        },
        "id": "die6pW39tLpF",
        "outputId": "b88074e9-1343-4fda-f7ef-bb9d892997a3"
      },
      "execution_count": 12,
      "outputs": [
        {
          "output_type": "display_data",
          "data": {
            "text/plain": [
              "<Figure size 800x600 with 1 Axes>"
            ],
            "image/png": "[encoded data removed]"
          },
          "metadata": {}
        }
      ]
    },
    {
      "cell_type": "code",
      "source": [
        "knn = KNeighborsClassifier(n_neighbors=3)\n",
        "knn.fit(X_train, y_train)\n",
        "y_pred_knn = knn.predict(X_test)\n",
        "print('KNN predicted values:',y_pred_knn)"
      ],
      "metadata": {
        "colab": {
          "base_uri": "https://localhost:8080/"
        },
        "id": "08tZ4dqbtOw3",
        "outputId": "1df943a3-620d-40cd-922a-3397e9736d18"
      },
      "execution_count": 13,
      "outputs": [
        {
          "output_type": "stream",
          "name": "stdout",
          "text": [
            "KNN predicted values: ['Placed' 'Placed' 'Placed' 'Placed' 'Placed' 'Not Placed' 'Not Placed'\n",
            " 'Placed' 'Placed' 'Placed' 'Not Placed' 'Placed' 'Not Placed' 'Placed'\n",
            " 'Placed' 'Placed' 'Placed' 'Placed' 'Not Placed' 'Placed' 'Placed'\n",
            " 'Placed' 'Placed' 'Not Placed' 'Placed' 'Placed' 'Placed' 'Not Placed'\n",
            " 'Placed' 'Placed' 'Placed' 'Placed' 'Placed' 'Placed' 'Placed' 'Placed'\n",
            " 'Placed' 'Placed' 'Placed' 'Placed' 'Placed' 'Placed' 'Placed']\n"
          ]
        }
      ]
    },
    {
      "cell_type": "code",
      "source": [
        "svm = SVC(kernel='linear', C=1)\n",
        "svm.fit(X_train, y_train)\n",
        "y_pred_svm = svm.predict(X_test)\n",
        "print('SVM predicted values:',y_pred_svm)"
      ],
      "metadata": {
        "colab": {
          "base_uri": "https://localhost:8080/"
        },
        "id": "-iioQRGTtR6X",
        "outputId": "b0241b16-a592-423f-bca3-1d8e612e0dc4"
      },
      "execution_count": 14,
      "outputs": [
        {
          "output_type": "stream",
          "name": "stdout",
          "text": [
            "SVM predicted values: ['Placed' 'Placed' 'Placed' 'Not Placed' 'Placed' 'Not Placed'\n",
            " 'Not Placed' 'Placed' 'Placed' 'Placed' 'Placed' 'Placed' 'Not Placed'\n",
            " 'Placed' 'Placed' 'Not Placed' 'Placed' 'Not Placed' 'Not Placed'\n",
            " 'Placed' 'Placed' 'Placed' 'Not Placed' 'Not Placed' 'Placed' 'Placed'\n",
            " 'Not Placed' 'Placed' 'Placed' 'Placed' 'Placed' 'Placed' 'Placed'\n",
            " 'Placed' 'Placed' 'Placed' 'Not Placed' 'Placed' 'Placed' 'Placed'\n",
            " 'Placed' 'Placed' 'Placed']\n"
          ]
        }
      ]
    },
    {
      "cell_type": "code",
      "source": [
        "dec_tree = DecisionTreeClassifier()\n",
        "dec_tree.fit(X_train, y_train)\n",
        "y_pred_dec_tree = dec_tree.predict(X_test)\n",
        "print('Decision Tree predicted values:',y_pred_dec_tree)"
      ],
      "metadata": {
        "colab": {
          "base_uri": "https://localhost:8080/"
        },
        "id": "61n6ReVdtU-8",
        "outputId": "d4c9ca77-d7c4-4536-cde3-56be3256139c"
      },
      "execution_count": 15,
      "outputs": [
        {
          "output_type": "stream",
          "name": "stdout",
          "text": [
            "Decision Tree predicted values: ['Placed' 'Placed' 'Placed' 'Not Placed' 'Placed' 'Not Placed'\n",
            " 'Not Placed' 'Placed' 'Placed' 'Placed' 'Placed' 'Placed' 'Not Placed'\n",
            " 'Not Placed' 'Placed' 'Not Placed' 'Placed' 'Not Placed' 'Not Placed'\n",
            " 'Placed' 'Placed' 'Placed' 'Placed' 'Not Placed' 'Placed' 'Placed'\n",
            " 'Not Placed' 'Placed' 'Placed' 'Placed' 'Placed' 'Not Placed'\n",
            " 'Not Placed' 'Placed' 'Placed' 'Placed' 'Not Placed' 'Placed' 'Placed'\n",
            " 'Placed' 'Placed' 'Placed' 'Placed']\n"
          ]
        }
      ]
    },
    {
      "cell_type": "code",
      "source": [
        "knn_accuracy = accuracy_score(y_test, y_pred_knn)\n",
        "knn_precision = precision_score(y_test, y_pred_knn, average='weighted')\n",
        "knn_recall = recall_score(y_test, y_pred_knn, average='weighted')\n",
        "knn_confusion_matrix = confusion_matrix(y_test, y_pred_knn)\n",
        "print('KNN Accuracy:',knn_accuracy)\n",
        "print('KNN Precision:',knn_precision)\n",
        "print('KNN Recall:',knn_recall)\n",
        "print('KNN Confusion Matrix:',knn_confusion_matrix)"
      ],
      "metadata": {
        "colab": {
          "base_uri": "https://localhost:8080/"
        },
        "id": "2JWqnSM0tYNd",
        "outputId": "766befd8-2efd-460e-d3e1-d1671c185e19"
      },
      "execution_count": 16,
      "outputs": [
        {
          "output_type": "stream",
          "name": "stdout",
          "text": [
            "KNN Accuracy: 0.7906976744186046\n",
            "KNN Precision: 0.7800849021779254\n",
            "KNN Recall: 0.7906976744186046\n",
            "KNN Confusion Matrix: [[ 5  7]\n",
            " [ 2 29]]\n"
          ]
        }
      ]
    },
    {
      "cell_type": "code",
      "source": [
        "import matplotlib.pyplot as plt\n",
        "import seaborn as sns\n",
        "plt.figure(figsize=(8, 6))\n",
        "sns.heatmap(knn_confusion_matrix, annot=True, cmap='Blues', fmt='g', cbar=False)\n",
        "plt.title('Confusion Matrix - KNN')\n",
        "plt.xlabel('Predicted')\n",
        "plt.ylabel('True')\n",
        "plt.show()"
      ],
      "metadata": {
        "colab": {
          "base_uri": "https://localhost:8080/",
          "height": 564
        },
        "id": "eYO33Rpotbn-",
        "outputId": "2d417620-aa0d-4922-c926-89d1e189e712"
      },
      "execution_count": 17,
      "outputs": [
        {
          "output_type": "display_data",
          "data": {
            "text/plain": [
              "<Figure size 800x600 with 1 Axes>"
            ],
            "image/png": "[encoded data removed]"
          },
          "metadata": {}
        }
      ]
    },
    {
      "cell_type": "code",
      "source": [
        "svm_accuracy = accuracy_score(y_test, y_pred_svm)\n",
        "svm_precision = precision_score(y_test, y_pred_svm, average='weighted')\n",
        "svm_recall = recall_score(y_test, y_pred_svm, average='weighted')\n",
        "svm_confusion_matrix = confusion_matrix(y_test, y_pred_svm)\n",
        "print('SVM Accuracy:',svm_accuracy)\n",
        "print('SVM Precision:',svm_precision)\n",
        "print('SVM Recall:',svm_recall)\n",
        "print('SVM Confusion Matrix:',svm_confusion_matrix)"
      ],
      "metadata": {
        "colab": {
          "base_uri": "https://localhost:8080/"
        },
        "id": "rXJKjg8Utfii",
        "outputId": "5215d6e1-9bab-4d54-b64c-40962f54dad9"
      },
      "execution_count": 18,
      "outputs": [
        {
          "output_type": "stream",
          "name": "stdout",
          "text": [
            "SVM Accuracy: 0.8837209302325582\n",
            "SVM Precision: 0.8816728329809725\n",
            "SVM Recall: 0.8837209302325582\n",
            "SVM Confusion Matrix: [[ 9  3]\n",
            " [ 2 29]]\n"
          ]
        }
      ]
    },
    {
      "cell_type": "code",
      "source": [
        "import matplotlib.pyplot as plt\n",
        "import seaborn as sns"
      ],
      "metadata": {
        "id": "6WGaiJL9ti4g"
      },
      "execution_count": 19,
      "outputs": []
    },
    {
      "cell_type": "code",
      "source": [
        "plt.figure(figsize=(8, 6))\n",
        "sns.set(font_scale=1.2)\n",
        "sns.heatmap(svm_confusion_matrix, annot=True, cmap='Blues', fmt='g',\n",
        "            xticklabels=np.unique(y_test), yticklabels=np.unique(y_test))\n",
        "plt.xlabel('Predicted')\n",
        "plt.ylabel('True')\n",
        "plt.title('Confusion Matrix for SVM')\n",
        "plt.show()"
      ],
      "metadata": {
        "colab": {
          "base_uri": "https://localhost:8080/",
          "height": 578
        },
        "id": "GrN3YSAltl9G",
        "outputId": "d086ca5b-2517-47a8-ae33-d6ee23d94e29"
      },
      "execution_count": 20,
      "outputs": [
        {
          "output_type": "display_data",
          "data": {
            "text/plain": [
              "<Figure size 800x600 with 2 Axes>"
            ],
            "image/png": "[encoded data removed]"
          },
          "metadata": {}
        }
      ]
    },
    {
      "cell_type": "code",
      "source": [
        "dec_tree_accuracy = accuracy_score(y_test, y_pred_dec_tree)\n",
        "dec_tree_precision = precision_score(y_test, y_pred_dec_tree, average='weighted')\n",
        "dec_tree_recall = recall_score(y_test, y_pred_dec_tree, average='weighted')\n",
        "dec_tree_confusion_matrix = confusion_matrix(y_test, y_pred_dec_tree)\n",
        "print('Decision Tree Accuracy:',dec_tree_accuracy)\n",
        "print('Decision Tree Precision:',dec_tree_precision)\n",
        "print('Decision Tree Recall:',dec_tree_recall)\n",
        "print('Decision Tree Confusion Matrix:',dec_tree_confusion_matrix)"
      ],
      "metadata": {
        "colab": {
          "base_uri": "https://localhost:8080/"
        },
        "id": "0TQZjYgBtpvC",
        "outputId": "defa263c-35f4-4815-cd4c-ea62038c9264"
      },
      "execution_count": 21,
      "outputs": [
        {
          "output_type": "stream",
          "name": "stdout",
          "text": [
            "Decision Tree Accuracy: 0.8372093023255814\n",
            "Decision Tree Precision: 0.8420393559928445\n",
            "Decision Tree Recall: 0.8372093023255814\n",
            "Decision Tree Confusion Matrix: [[ 9  3]\n",
            " [ 4 27]]\n"
          ]
        }
      ]
    },
    {
      "cell_type": "code",
      "source": [
        "plt.figure(figsize=(8, 6))\n",
        "sns.heatmap(dec_tree_confusion_matrix, annot=True, cmap='Blues', fmt='g')\n",
        "plt.xlabel('Predicted labels')\n",
        "plt.ylabel('True labels')\n",
        "plt.title('Confusion Matrix - Decision Tree Model')\n",
        "plt.show()"
      ],
      "metadata": {
        "colab": {
          "base_uri": "https://localhost:8080/",
          "height": 578
        },
        "id": "5nYm-8_Dttgm",
        "outputId": "34ba7445-aebe-4f35-d750-184384c8a2ba"
      },
      "execution_count": 22,
      "outputs": [
        {
          "output_type": "display_data",
          "data": {
            "text/plain": [
              "<Figure size 800x600 with 2 Axes>"
            ],
            "image/png": "[encoded data removed]"
          },
          "metadata": {}
        }
      ]
    },
    {
      "cell_type": "code",
      "source": [
        "from sklearn.ensemble import RandomForestClassifier, AdaBoostClassifier\n",
        "from sklearn.metrics import accuracy_score, precision_score, recall_score, f1_score"
      ],
      "metadata": {
        "id": "LXU91V45txKJ"
      },
      "execution_count": 24,
      "outputs": []
    },
    {
      "cell_type": "code",
      "source": [
        "random_forest = RandomForestClassifier(random_state=42)\n",
        "random_forest.fit(X_train, y_train)\n",
        "y_pred_rf = random_forest.predict(X_test)\n",
        "rf_accuracy = accuracy_score(y_test, y_pred_rf)\n",
        "rf_precision = precision_score(y_test, y_pred_rf, average='weighted')\n",
        "rf_recall = recall_score(y_test, y_pred_rf, average='weighted')\n",
        "rf_f1 = f1_score(y_test, y_pred_rf, average='weighted')\n",
        "print(\"Random Forest Metrics:\")\n",
        "print(\"Accuracy:\", rf_accuracy)\n",
        "print(\"Precision:\", rf_precision)\n",
        "print(\"Recall:\", rf_recall)\n",
        "print(\"F1-score:\", rf_f1)"
      ],
      "metadata": {
        "colab": {
          "base_uri": "https://localhost:8080/"
        },
        "id": "-59dJqqbua4H",
        "outputId": "56d33225-f77b-4db9-a100-6e54244d8ce1"
      },
      "execution_count": 25,
      "outputs": [
        {
          "output_type": "stream",
          "name": "stdout",
          "text": [
            "Random Forest Metrics:\n",
            "Accuracy: 0.813953488372093\n",
            "Precision: 0.8070472163495419\n",
            "Recall: 0.813953488372093\n",
            "F1-score: 0.8084038054968289\n"
          ]
        }
      ]
    },
    {
      "cell_type": "code",
      "source": [
        "adaboost = AdaBoostClassifier(random_state=42)\n",
        "adaboost.fit(X_train, y_train)\n",
        "y_pred_ab = adaboost.predict(X_test)\n",
        "ab_accuracy = accuracy_score(y_test, y_pred_ab)\n",
        "ab_precision = precision_score(y_test, y_pred_ab, average='weighted')\n",
        "ab_recall = recall_score(y_test, y_pred_ab, average='weighted')\n",
        "ab_f1 = f1_score(y_test, y_pred_ab, average='weighted')\n",
        "print(\"\\nAdaBoost Metrics:\")\n",
        "print(\"Accuracy:\", ab_accuracy)\n",
        "print(\"Precision:\", ab_precision)\n",
        "print(\"Recall:\", ab_recall)\n",
        "print(\"F1-score:\", ab_f1)"
      ],
      "metadata": {
        "colab": {
          "base_uri": "https://localhost:8080/"
        },
        "id": "KmMq9lFcueg0",
        "outputId": "1f505bc8-eb83-4e06-db1b-cd79d3c2606c"
      },
      "execution_count": 26,
      "outputs": [
        {
          "output_type": "stream",
          "name": "stdout",
          "text": [
            "\n",
            "AdaBoost Metrics:\n",
            "Accuracy: 0.8604651162790697\n",
            "Precision: 0.862126245847176\n",
            "Recall: 0.8604651162790697\n",
            "F1-score: 0.8507399577167019\n"
          ]
        }
      ]
    }
  ]
}